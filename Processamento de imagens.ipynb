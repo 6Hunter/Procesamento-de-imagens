{
 "cells": [
  {
   "cell_type": "markdown",
   "metadata": {},
   "source": [
    "# Processamneto das imagens histológicas de cérebros de rato"
   ]
  },
  {
   "cell_type": "markdown",
   "metadata": {},
   "source": [
    "##### Import das bibliotecas necessárias"
   ]
  },
  {
   "cell_type": "code",
   "execution_count": null,
   "metadata": {},
   "outputs": [],
   "source": [
    "import matplotlib.pyplot as plt\n",
    "import numpy as np\n",
    "import os\n",
    "\n",
    "from skimage import io\n",
    "from skimage import color\n",
    "from skimage import morphology\n",
    "from skimage import exposure\n",
    "from skimage import measure\n",
    "import cv2"
   ]
  },
  {
   "cell_type": "markdown",
   "metadata": {},
   "source": [
    "### Pré-Processamento da Imagem Histológica"
   ]
  },
  {
   "cell_type": "markdown",
   "metadata": {},
   "source": [
    "Deve colocar na variável `img_path` o caminho da imagem que pretende ser processada e em `output_path` o path da pasta onde pretende que sejam guardadas as imagens resultantes das operações"
   ]
  },
  {
   "cell_type": "code",
   "execution_count": null,
   "metadata": {},
   "outputs": [],
   "source": [
    "output_path = r\"C:\\Users\\vieir\\Desktop\\OUTPUT\"\n",
    "\n",
    "img_path = r\"C:\\Users\\vieir\\Desktop\\Tese\\Imagens\\Slide1_10xmosaic_slice2.tif\"\n",
    "img = io.imread(img_path)"
   ]
  },
  {
   "cell_type": "markdown",
   "metadata": {},
   "source": [
    "##### Aplicar um contraste maior na imagem"
   ]
  },
  {
   "cell_type": "code",
   "execution_count": null,
   "metadata": {},
   "outputs": [],
   "source": [
    "arr = np.array([2, 50, 100, 205, 250], dtype=np.uint8)\n",
    "min, max = arr.min(), arr.max()\n",
    "arr_subtracted = arr - min\n",
    "arr_divided = arr_subtracted / (max - min) \n",
    "arr_multiplied = arr_divided * 255 \n",
    "arr_rescaled = np.asarray(arr_multiplied, dtype=arr.dtype)\n",
    "percentiles = np.percentile(img, (0.5, 99.5))\n",
    "scaled=exposure.rescale_intensity(img, in_range=tuple(percentiles))\n",
    "\n",
    "fig, ax_arr = plt.subplots(2, 1, sharex=True, sharey=True, figsize=(10, 10))\n",
    "ax1, ax2 = ax_arr.ravel()\n",
    "\n",
    "ax1.imshow(img)\n",
    "ax1.set_title('Original image')\n",
    "\n",
    "ax2.imshow(scaled, cmap='gray')\n",
    "ax2.set_title('Rescaled/Contrasted')\n",
    "\n",
    "for ax in ax_arr.ravel():\n",
    "    ax.set_axis_off()\n",
    "\n",
    "plt.tight_layout()\n",
    "plt.show()"
   ]
  },
  {
   "cell_type": "markdown",
   "metadata": {},
   "source": [
    "`(Opcional) Correr a próxima célula para guardar a imagem obtida pelo processo anterior`"
   ]
  },
  {
   "cell_type": "code",
   "execution_count": null,
   "metadata": {},
   "outputs": [],
   "source": [
    "img_name = os.path.splitext(os.path.basename(img_path))[0]\n",
    "output_img = output_path + \"\\\\\" + img_name + \"_Contrasted.tif\"\n",
    "io.imsave(output_img,scaled)"
   ]
  },
  {
   "cell_type": "markdown",
   "metadata": {},
   "source": [
    "##### Criação da mascara da imagem"
   ]
  },
  {
   "cell_type": "code",
   "execution_count": null,
   "metadata": {},
   "outputs": [],
   "source": [
    "lum = color.rgb2gray(scaled)\n",
    "mask = morphology.remove_small_holes(\n",
    "    morphology.remove_small_objects(\n",
    "        lum < 0.80, 500),\n",
    "    500)\n",
    "\n",
    "mask = morphology.opening(mask)"
   ]
  },
  {
   "cell_type": "markdown",
   "metadata": {},
   "source": [
    "`(Opcional) Correr a próxima célula para guardar a imagem obtida pelo processo anterior`"
   ]
  },
  {
   "cell_type": "code",
   "execution_count": null,
   "metadata": {},
   "outputs": [],
   "source": [
    "output_img = output_path + \"\\\\\" + img_name + \"_Mask.tif\"\n",
    "io.imsave(output_img,mask)"
   ]
  },
  {
   "cell_type": "markdown",
   "metadata": {},
   "source": [
    "##### Isolamento da máscara da estrutura"
   ]
  },
  {
   "cell_type": "code",
   "execution_count": null,
   "metadata": {},
   "outputs": [],
   "source": [
    "labeled_mask, num_labels = measure.label(mask, return_num=True)\n",
    "\n",
    "# Get the sizes of all connected components\n",
    "sizes = [np.sum(labeled_mask == label) for label in range(1, num_labels + 1)]\n",
    "\n",
    "# Find the label corresponding to the largest connected component\n",
    "largest_label = np.argmax(sizes) + 1  # Add 1 to account for 0-label (background)\n",
    "\n",
    "# Create a new mask containing only the largest connected component\n",
    "mask = labeled_mask == largest_label\n",
    "\n",
    "# Display result\n",
    "fig, ax_arr = plt.subplots(2, 1, sharex=True, sharey=True, figsize=(10, 10))\n",
    "ax1, ax2 = ax_arr.ravel()\n",
    "\n",
    "ax1.imshow(scaled)\n",
    "ax1.set_title('Contrasted image')\n",
    "\n",
    "ax2.imshow(mask, cmap='gray')\n",
    "ax2.set_title('Mask')\n",
    "\n",
    "for ax in ax_arr.ravel():\n",
    "    ax.set_axis_off()\n",
    "\n",
    "plt.tight_layout()\n",
    "plt.show()"
   ]
  },
  {
   "cell_type": "markdown",
   "metadata": {},
   "source": [
    "`Correr a próxima célula para guardar a imagem obtida pelo processo anterior`"
   ]
  },
  {
   "cell_type": "code",
   "execution_count": null,
   "metadata": {},
   "outputs": [],
   "source": [
    "output_img = output_path + \"\\\\\" + img_name + \"_Final_Mask.tif\"\n",
    "io.imsave(output_img,mask)"
   ]
  },
  {
   "cell_type": "markdown",
   "metadata": {},
   "source": [
    "##### Aplicação da máscara na imagem original/com contraste para remoção do fundo"
   ]
  },
  {
   "cell_type": "markdown",
   "metadata": {},
   "source": [
    "Escolha a imagem que pretende aplicar a máscara\n",
    "\n",
    "* `imagem = img` para a imagem original\n",
    "* `imagem = scaled` para a imagem original após contraste"
   ]
  },
  {
   "cell_type": "code",
   "execution_count": null,
   "metadata": {},
   "outputs": [],
   "source": [
    "imagem = img\n",
    "\n",
    "removed_background = imagem.copy()\n",
    "removed_background[mask == 0] = 0\n",
    "\n",
    "# Display the results\n",
    "fig, axes = plt.subplots(1, 2)\n",
    "axes[0].imshow(img)\n",
    "axes[0].set_title('Image')\n",
    "axes[1].imshow(removed_background)\n",
    "axes[1].set_title('Image without Background')\n",
    "for ax in axes:\n",
    "    ax.axis('off')\n",
    "plt.show()"
   ]
  },
  {
   "cell_type": "markdown",
   "metadata": {},
   "source": [
    "`(Opcional) Correr a próxima célula para guardar a imagem obtida pelo processo anterior`"
   ]
  },
  {
   "cell_type": "code",
   "execution_count": null,
   "metadata": {},
   "outputs": [],
   "source": [
    "img_name = os.path.splitext(os.path.basename(img_path))[0]\n",
    "output_img = output_path + \"\\\\\" + img_name + \"_Processed.tif\"\n",
    "io.imsave(output_img,removed_background)"
   ]
  },
  {
   "cell_type": "markdown",
   "metadata": {},
   "source": [
    "### Criação das Macros para utilização no ImageJ"
   ]
  },
  {
   "cell_type": "markdown",
   "metadata": {},
   "source": [
    "Neste ponto será necessário relacionar a imagem do atlas correspondente à imagem que utilizou até este ponto, colocando a máscara da imagem do atlas em `atlas_mask` e a máscara produzida e guardada anteriormente em `image_mask`.\n",
    "\n",
    "Adicionalmente poderá adicionar a pasta onde deseja guardar o output das operações em `output_path`.\n",
    "\n",
    "As máscaras das imagens do atlas encontram-se no repositório em que este documento se encontra"
   ]
  },
  {
   "cell_type": "code",
   "execution_count": null,
   "metadata": {},
   "outputs": [],
   "source": [
    "atlas_mask_path = r\"C:\\Users\\vieir\\Desktop\\Tese\\Imagens\\RBSC5_Blue_035_Masc_small.tif\"\n",
    "image_mask_path = r\"C:\\Users\\vieir\\Desktop\\Tese\\Imagens\\Slide1_10xmosaic_slice2_Final_Mask.tif\"\n",
    "\n",
    "atlas_mask_name = os.path.basename(atlas_mask_path)\n",
    "image_mask_name = os.path.basename(image_mask_path)\n",
    "\n",
    "atlas_mask = io.imread(atlas_mask_path)\n",
    "image_mask = io.imread(image_mask_path)"
   ]
  },
  {
   "cell_type": "markdown",
   "metadata": {},
   "source": [
    "##### Criação da Macro para obter os coeficientes de transformação"
   ]
  },
  {
   "cell_type": "code",
   "execution_count": null,
   "metadata": {},
   "outputs": [],
   "source": [
    "ratio = image_mask.shape[1]/atlas_mask.shape[1]\n",
    "\n",
    "new_img_height = int(image_mask.shape[0]/ratio)\n",
    "new_img_width = int(image_mask.shape[1]/ratio)"
   ]
  },
  {
   "cell_type": "code",
   "execution_count": null,
   "metadata": {},
   "outputs": [],
   "source": [
    "first_macro_path = output_path + \"\\Macro1.ijm\"\n",
    "\n",
    "content = [\n",
    "    'open(\"' + image_mask_path.replace(\"\\\\\", \"/\") + '\");',\n",
    "    'run(\"Size...\", \"width=' + str(new_img_width) + ' height=' + str(new_img_height) + ' depth=1 constrain average interpolation=Bilinear\");',\n",
    "    'open(\"' + atlas_mask_path.replace(\"\\\\\", \"/\") + '\");',\n",
    "    'run(\"bUnwarpJ\", \"source_image=' + atlas_mask_name + ' target_image=' + image_mask_name + ' registration=Mono image_subsample_factor=0 initial_deformation=[Very Coarse] final_deformation=Fine divergence_weight=0 curl_weight=0 landmark_weight=0 image_weight=1 consistency_weight=10 stop_threshold=0.01 save_transformations save_direct_transformation=' + output_path.replace(\"\\\\\", \"/\") + '/Coeficientes.txt\");',\n",
    "    'close();',\n",
    "    'close();',\n",
    "    'close();'\n",
    "]\n",
    "\n",
    "with open(first_macro_path, \"w\") as file:\n",
    "    file.writelines(\"\\n\".join(content))"
   ]
  },
  {
   "cell_type": "markdown",
   "metadata": {},
   "source": [
    "##### Criação da Macro para aplicação dos coeficientes na imagem original do atlas"
   ]
  },
  {
   "cell_type": "markdown",
   "metadata": {},
   "source": [
    "O Path da imagem do atlas correspondente ao processamento anterior deverá ser colocado em `atlas_path`.\n",
    "\n",
    "!Atenção! Se o nome ou o local predefinidos do ficheiro dos coeficientes da transformação obtido anteirormente for modificado, será necessário apontar as alterações em `coeficients_file_path`."
   ]
  },
  {
   "cell_type": "code",
   "execution_count": null,
   "metadata": {},
   "outputs": [],
   "source": [
    "atlas_path = r\"C:\\Users\\vieir\\Desktop\\Tese\\Imagens\\TIFFAtlasBlueLabel\\RBSC5_Blue_035.tif\"\n",
    "atlas_name = os.path.basename(atlas_path)\n",
    "\n",
    "coeficients_file_path = output_path + \"\\Coeficientes.txt\"\n",
    "\n",
    "new_atlas_height = int(atlas_mask.shape[0]*ratio)\n",
    "new_atlas_width = int(atlas_mask.shape[1]*ratio)"
   ]
  },
  {
   "cell_type": "code",
   "execution_count": null,
   "metadata": {},
   "outputs": [],
   "source": [
    "second_macro_path = output_path + \"\\Macro2.ijm\"\n",
    "\n",
    "content = [\n",
    "    'open(\"' + atlas_mask_path.replace(\"\\\\\", \"/\") + '\");',\n",
    "    'open(\"' + atlas_path.replace(\"\\\\\", \"/\") + '\");',\n",
    "    'call(\"bunwarpj.bUnwarpJ_.loadElasticTransform\", \"' + coeficients_file_path.replace(\"\\\\\",\"\\\\\\\\\") + '\", \"' + atlas_mask_name + '\", \"' + atlas_name + '\");',\n",
    "    'run(\"Size...\", \"width=' + str(new_atlas_width) + ' height=' + str(new_atlas_height) + ' depth=1 constrain average interpolation=Bilinear\");',\n",
    "    'saveAs(\"Tiff\", \"' + output_path.replace(\"\\\\\", \"/\") + '/AtlasTransformed.tif\");',\n",
    "    'close();',\n",
    "    'close();'\n",
    "]\n",
    "\n",
    "with open(second_macro_path, \"w\") as file:\n",
    "    file.writelines(\"\\n\".join(content))"
   ]
  },
  {
   "cell_type": "markdown",
   "metadata": {},
   "source": [
    "### Sobreposição das imagens"
   ]
  },
  {
   "cell_type": "markdown",
   "metadata": {},
   "source": [
    "As duas imagens a ser sobrepostas por defeito são a imagem original e a imagem gerada na etapa anterior.\n",
    "\n",
    "Se quiser alterar qualquer uma destas deverá colocar o path das mesmas em `img_path` e `atlas_path`.\n",
    "\n",
    "Ainda deverá alterar o valor de `atlas_path` se mover ou alterar o nome a imagem produzida na etapa anterior."
   ]
  },
  {
   "cell_type": "code",
   "execution_count": null,
   "metadata": {},
   "outputs": [],
   "source": [
    "img_path = img_path\n",
    "atlas_path = output_path + \"\\AtlasTransformed.tif\"\n",
    "\n",
    "img = cv2.imread(img_path)\n",
    "atlas = cv2.imread(atlas_path)\n",
    "\n",
    "atlas = cv2.cvtColor(atlas, cv2.COLOR_BGR2RGB)"
   ]
  },
  {
   "cell_type": "code",
   "execution_count": null,
   "metadata": {},
   "outputs": [],
   "source": [
    "height1, width1 = img.shape[0],img.shape[1]\n",
    "print(\"Image:\",height1, width1)\n",
    "\n",
    "height2, width2 = atlas.shape[0],atlas.shape[1]\n",
    "print(\"Atlas:\",height2, width2)"
   ]
  },
  {
   "cell_type": "markdown",
   "metadata": {},
   "source": [
    "Nota: Quando mais díspares forem os valores entre as alturas das imagens piores serão os resultados obtidos desta sobreposição das imagens. \n",
    "\n",
    "Para corrigir este erro as imagens iniciais do projeto devem ser editadas de forma a conterem ratios semelhantes."
   ]
  },
  {
   "cell_type": "code",
   "execution_count": null,
   "metadata": {},
   "outputs": [],
   "source": [
    "min_height = np.minimum(height1, height2)\n",
    "min_width = np.minimum(width1, width2)\n",
    "\n",
    "img11 = img[0:min_height, 0:min_width]\n",
    "img22 = atlas[0:min_height, 0:min_width]\n",
    "\n",
    "img_add = cv2.addWeighted(img11, 0.4, img22, 0.6, 0) \n",
    "plt.imshow(img_add)\n",
    "plt.show()"
   ]
  },
  {
   "cell_type": "markdown",
   "metadata": {},
   "source": [
    "`Correr a próxima célula para guardar o resultado final deste processo`"
   ]
  },
  {
   "cell_type": "code",
   "execution_count": null,
   "metadata": {},
   "outputs": [],
   "source": [
    "cv2.imwrite(output_path + '\\Resultado.tif', img_add)"
   ]
  }
 ],
 "metadata": {
  "kernelspec": {
   "display_name": "Python 3",
   "language": "python",
   "name": "python3"
  },
  "language_info": {
   "codemirror_mode": {
    "name": "ipython",
    "version": 3
   },
   "file_extension": ".py",
   "mimetype": "text/x-python",
   "name": "python",
   "nbconvert_exporter": "python",
   "pygments_lexer": "ipython3",
   "version": "3.10.9"
  }
 },
 "nbformat": 4,
 "nbformat_minor": 4
}
